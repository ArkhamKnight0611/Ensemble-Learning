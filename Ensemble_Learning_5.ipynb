{
  "nbformat": 4,
  "nbformat_minor": 0,
  "metadata": {
    "colab": {
      "provenance": []
    },
    "kernelspec": {
      "name": "python3",
      "display_name": "Python 3"
    },
    "language_info": {
      "name": "python"
    }
  },
  "cells": [
    {
      "cell_type": "code",
      "execution_count": 24,
      "metadata": {
        "id": "WnjjFngcmT6d"
      },
      "outputs": [],
      "source": [
        "from sklearn.pipeline import Pipeline\n",
        "from sklearn.compose import ColumnTransformer\n",
        "from sklearn.feature_selection import SelectFromModel\n",
        "from sklearn.impute import SimpleImputer\n",
        "from sklearn.preprocessing import StandardScaler, OneHotEncoder\n",
        "from sklearn.ensemble import RandomForestClassifier\n",
        "from sklearn.model_selection import train_test_split\n",
        "from sklearn.metrics import accuracy_score"
      ]
    },
    {
      "cell_type": "code",
      "source": [
        "import seaborn as sns"
      ],
      "metadata": {
        "id": "IaMOx-Jvwhmu"
      },
      "execution_count": 25,
      "outputs": []
    },
    {
      "cell_type": "code",
      "source": [
        "df=sns.load_dataset('iris')\n",
        "df.head()"
      ],
      "metadata": {
        "colab": {
          "base_uri": "https://localhost:8080/",
          "height": 206
        },
        "id": "7OS6F0YynVtl",
        "outputId": "9308c56c-bfc3-4525-9680-b063cfc5eadd"
      },
      "execution_count": 26,
      "outputs": [
        {
          "output_type": "execute_result",
          "data": {
            "text/plain": [
              "   sepal_length  sepal_width  petal_length  petal_width species\n",
              "0           5.1          3.5           1.4          0.2  setosa\n",
              "1           4.9          3.0           1.4          0.2  setosa\n",
              "2           4.7          3.2           1.3          0.2  setosa\n",
              "3           4.6          3.1           1.5          0.2  setosa\n",
              "4           5.0          3.6           1.4          0.2  setosa"
            ],
            "text/html": [
              "\n",
              "  <div id=\"df-69b7cb51-9e66-4db5-a354-cfc35c8f3fc1\" class=\"colab-df-container\">\n",
              "    <div>\n",
              "<style scoped>\n",
              "    .dataframe tbody tr th:only-of-type {\n",
              "        vertical-align: middle;\n",
              "    }\n",
              "\n",
              "    .dataframe tbody tr th {\n",
              "        vertical-align: top;\n",
              "    }\n",
              "\n",
              "    .dataframe thead th {\n",
              "        text-align: right;\n",
              "    }\n",
              "</style>\n",
              "<table border=\"1\" class=\"dataframe\">\n",
              "  <thead>\n",
              "    <tr style=\"text-align: right;\">\n",
              "      <th></th>\n",
              "      <th>sepal_length</th>\n",
              "      <th>sepal_width</th>\n",
              "      <th>petal_length</th>\n",
              "      <th>petal_width</th>\n",
              "      <th>species</th>\n",
              "    </tr>\n",
              "  </thead>\n",
              "  <tbody>\n",
              "    <tr>\n",
              "      <th>0</th>\n",
              "      <td>5.1</td>\n",
              "      <td>3.5</td>\n",
              "      <td>1.4</td>\n",
              "      <td>0.2</td>\n",
              "      <td>setosa</td>\n",
              "    </tr>\n",
              "    <tr>\n",
              "      <th>1</th>\n",
              "      <td>4.9</td>\n",
              "      <td>3.0</td>\n",
              "      <td>1.4</td>\n",
              "      <td>0.2</td>\n",
              "      <td>setosa</td>\n",
              "    </tr>\n",
              "    <tr>\n",
              "      <th>2</th>\n",
              "      <td>4.7</td>\n",
              "      <td>3.2</td>\n",
              "      <td>1.3</td>\n",
              "      <td>0.2</td>\n",
              "      <td>setosa</td>\n",
              "    </tr>\n",
              "    <tr>\n",
              "      <th>3</th>\n",
              "      <td>4.6</td>\n",
              "      <td>3.1</td>\n",
              "      <td>1.5</td>\n",
              "      <td>0.2</td>\n",
              "      <td>setosa</td>\n",
              "    </tr>\n",
              "    <tr>\n",
              "      <th>4</th>\n",
              "      <td>5.0</td>\n",
              "      <td>3.6</td>\n",
              "      <td>1.4</td>\n",
              "      <td>0.2</td>\n",
              "      <td>setosa</td>\n",
              "    </tr>\n",
              "  </tbody>\n",
              "</table>\n",
              "</div>\n",
              "    <div class=\"colab-df-buttons\">\n",
              "\n",
              "  <div class=\"colab-df-container\">\n",
              "    <button class=\"colab-df-convert\" onclick=\"convertToInteractive('df-69b7cb51-9e66-4db5-a354-cfc35c8f3fc1')\"\n",
              "            title=\"Convert this dataframe to an interactive table.\"\n",
              "            style=\"display:none;\">\n",
              "\n",
              "  <svg xmlns=\"http://www.w3.org/2000/svg\" height=\"24px\" viewBox=\"0 -960 960 960\">\n",
              "    <path d=\"M120-120v-720h720v720H120Zm60-500h600v-160H180v160Zm220 220h160v-160H400v160Zm0 220h160v-160H400v160ZM180-400h160v-160H180v160Zm440 0h160v-160H620v160ZM180-180h160v-160H180v160Zm440 0h160v-160H620v160Z\"/>\n",
              "  </svg>\n",
              "    </button>\n",
              "\n",
              "  <style>\n",
              "    .colab-df-container {\n",
              "      display:flex;\n",
              "      gap: 12px;\n",
              "    }\n",
              "\n",
              "    .colab-df-convert {\n",
              "      background-color: #E8F0FE;\n",
              "      border: none;\n",
              "      border-radius: 50%;\n",
              "      cursor: pointer;\n",
              "      display: none;\n",
              "      fill: #1967D2;\n",
              "      height: 32px;\n",
              "      padding: 0 0 0 0;\n",
              "      width: 32px;\n",
              "    }\n",
              "\n",
              "    .colab-df-convert:hover {\n",
              "      background-color: #E2EBFA;\n",
              "      box-shadow: 0px 1px 2px rgba(60, 64, 67, 0.3), 0px 1px 3px 1px rgba(60, 64, 67, 0.15);\n",
              "      fill: #174EA6;\n",
              "    }\n",
              "\n",
              "    .colab-df-buttons div {\n",
              "      margin-bottom: 4px;\n",
              "    }\n",
              "\n",
              "    [theme=dark] .colab-df-convert {\n",
              "      background-color: #3B4455;\n",
              "      fill: #D2E3FC;\n",
              "    }\n",
              "\n",
              "    [theme=dark] .colab-df-convert:hover {\n",
              "      background-color: #434B5C;\n",
              "      box-shadow: 0px 1px 3px 1px rgba(0, 0, 0, 0.15);\n",
              "      filter: drop-shadow(0px 1px 2px rgba(0, 0, 0, 0.3));\n",
              "      fill: #FFFFFF;\n",
              "    }\n",
              "  </style>\n",
              "\n",
              "    <script>\n",
              "      const buttonEl =\n",
              "        document.querySelector('#df-69b7cb51-9e66-4db5-a354-cfc35c8f3fc1 button.colab-df-convert');\n",
              "      buttonEl.style.display =\n",
              "        google.colab.kernel.accessAllowed ? 'block' : 'none';\n",
              "\n",
              "      async function convertToInteractive(key) {\n",
              "        const element = document.querySelector('#df-69b7cb51-9e66-4db5-a354-cfc35c8f3fc1');\n",
              "        const dataTable =\n",
              "          await google.colab.kernel.invokeFunction('convertToInteractive',\n",
              "                                                    [key], {});\n",
              "        if (!dataTable) return;\n",
              "\n",
              "        const docLinkHtml = 'Like what you see? Visit the ' +\n",
              "          '<a target=\"_blank\" href=https://colab.research.google.com/notebooks/data_table.ipynb>data table notebook</a>'\n",
              "          + ' to learn more about interactive tables.';\n",
              "        element.innerHTML = '';\n",
              "        dataTable['output_type'] = 'display_data';\n",
              "        await google.colab.output.renderOutput(dataTable, element);\n",
              "        const docLink = document.createElement('div');\n",
              "        docLink.innerHTML = docLinkHtml;\n",
              "        element.appendChild(docLink);\n",
              "      }\n",
              "    </script>\n",
              "  </div>\n",
              "\n",
              "\n",
              "<div id=\"df-b671d95c-261a-4145-b396-3e662af725c7\">\n",
              "  <button class=\"colab-df-quickchart\" onclick=\"quickchart('df-b671d95c-261a-4145-b396-3e662af725c7')\"\n",
              "            title=\"Suggest charts\"\n",
              "            style=\"display:none;\">\n",
              "\n",
              "<svg xmlns=\"http://www.w3.org/2000/svg\" height=\"24px\"viewBox=\"0 0 24 24\"\n",
              "     width=\"24px\">\n",
              "    <g>\n",
              "        <path d=\"M19 3H5c-1.1 0-2 .9-2 2v14c0 1.1.9 2 2 2h14c1.1 0 2-.9 2-2V5c0-1.1-.9-2-2-2zM9 17H7v-7h2v7zm4 0h-2V7h2v10zm4 0h-2v-4h2v4z\"/>\n",
              "    </g>\n",
              "</svg>\n",
              "  </button>\n",
              "\n",
              "<style>\n",
              "  .colab-df-quickchart {\n",
              "      --bg-color: #E8F0FE;\n",
              "      --fill-color: #1967D2;\n",
              "      --hover-bg-color: #E2EBFA;\n",
              "      --hover-fill-color: #174EA6;\n",
              "      --disabled-fill-color: #AAA;\n",
              "      --disabled-bg-color: #DDD;\n",
              "  }\n",
              "\n",
              "  [theme=dark] .colab-df-quickchart {\n",
              "      --bg-color: #3B4455;\n",
              "      --fill-color: #D2E3FC;\n",
              "      --hover-bg-color: #434B5C;\n",
              "      --hover-fill-color: #FFFFFF;\n",
              "      --disabled-bg-color: #3B4455;\n",
              "      --disabled-fill-color: #666;\n",
              "  }\n",
              "\n",
              "  .colab-df-quickchart {\n",
              "    background-color: var(--bg-color);\n",
              "    border: none;\n",
              "    border-radius: 50%;\n",
              "    cursor: pointer;\n",
              "    display: none;\n",
              "    fill: var(--fill-color);\n",
              "    height: 32px;\n",
              "    padding: 0;\n",
              "    width: 32px;\n",
              "  }\n",
              "\n",
              "  .colab-df-quickchart:hover {\n",
              "    background-color: var(--hover-bg-color);\n",
              "    box-shadow: 0 1px 2px rgba(60, 64, 67, 0.3), 0 1px 3px 1px rgba(60, 64, 67, 0.15);\n",
              "    fill: var(--button-hover-fill-color);\n",
              "  }\n",
              "\n",
              "  .colab-df-quickchart-complete:disabled,\n",
              "  .colab-df-quickchart-complete:disabled:hover {\n",
              "    background-color: var(--disabled-bg-color);\n",
              "    fill: var(--disabled-fill-color);\n",
              "    box-shadow: none;\n",
              "  }\n",
              "\n",
              "  .colab-df-spinner {\n",
              "    border: 2px solid var(--fill-color);\n",
              "    border-color: transparent;\n",
              "    border-bottom-color: var(--fill-color);\n",
              "    animation:\n",
              "      spin 1s steps(1) infinite;\n",
              "  }\n",
              "\n",
              "  @keyframes spin {\n",
              "    0% {\n",
              "      border-color: transparent;\n",
              "      border-bottom-color: var(--fill-color);\n",
              "      border-left-color: var(--fill-color);\n",
              "    }\n",
              "    20% {\n",
              "      border-color: transparent;\n",
              "      border-left-color: var(--fill-color);\n",
              "      border-top-color: var(--fill-color);\n",
              "    }\n",
              "    30% {\n",
              "      border-color: transparent;\n",
              "      border-left-color: var(--fill-color);\n",
              "      border-top-color: var(--fill-color);\n",
              "      border-right-color: var(--fill-color);\n",
              "    }\n",
              "    40% {\n",
              "      border-color: transparent;\n",
              "      border-right-color: var(--fill-color);\n",
              "      border-top-color: var(--fill-color);\n",
              "    }\n",
              "    60% {\n",
              "      border-color: transparent;\n",
              "      border-right-color: var(--fill-color);\n",
              "    }\n",
              "    80% {\n",
              "      border-color: transparent;\n",
              "      border-right-color: var(--fill-color);\n",
              "      border-bottom-color: var(--fill-color);\n",
              "    }\n",
              "    90% {\n",
              "      border-color: transparent;\n",
              "      border-bottom-color: var(--fill-color);\n",
              "    }\n",
              "  }\n",
              "</style>\n",
              "\n",
              "  <script>\n",
              "    async function quickchart(key) {\n",
              "      const quickchartButtonEl =\n",
              "        document.querySelector('#' + key + ' button');\n",
              "      quickchartButtonEl.disabled = true;  // To prevent multiple clicks.\n",
              "      quickchartButtonEl.classList.add('colab-df-spinner');\n",
              "      try {\n",
              "        const charts = await google.colab.kernel.invokeFunction(\n",
              "            'suggestCharts', [key], {});\n",
              "      } catch (error) {\n",
              "        console.error('Error during call to suggestCharts:', error);\n",
              "      }\n",
              "      quickchartButtonEl.classList.remove('colab-df-spinner');\n",
              "      quickchartButtonEl.classList.add('colab-df-quickchart-complete');\n",
              "    }\n",
              "    (() => {\n",
              "      let quickchartButtonEl =\n",
              "        document.querySelector('#df-b671d95c-261a-4145-b396-3e662af725c7 button');\n",
              "      quickchartButtonEl.style.display =\n",
              "        google.colab.kernel.accessAllowed ? 'block' : 'none';\n",
              "    })();\n",
              "  </script>\n",
              "</div>\n",
              "\n",
              "    </div>\n",
              "  </div>\n"
            ],
            "application/vnd.google.colaboratory.intrinsic+json": {
              "type": "dataframe",
              "variable_name": "df",
              "summary": "{\n  \"name\": \"df\",\n  \"rows\": 150,\n  \"fields\": [\n    {\n      \"column\": \"sepal_length\",\n      \"properties\": {\n        \"dtype\": \"number\",\n        \"std\": 0.828066127977863,\n        \"min\": 4.3,\n        \"max\": 7.9,\n        \"num_unique_values\": 35,\n        \"samples\": [\n          6.2,\n          4.5,\n          5.6\n        ],\n        \"semantic_type\": \"\",\n        \"description\": \"\"\n      }\n    },\n    {\n      \"column\": \"sepal_width\",\n      \"properties\": {\n        \"dtype\": \"number\",\n        \"std\": 0.4358662849366982,\n        \"min\": 2.0,\n        \"max\": 4.4,\n        \"num_unique_values\": 23,\n        \"samples\": [\n          2.3,\n          4.0,\n          3.5\n        ],\n        \"semantic_type\": \"\",\n        \"description\": \"\"\n      }\n    },\n    {\n      \"column\": \"petal_length\",\n      \"properties\": {\n        \"dtype\": \"number\",\n        \"std\": 1.7652982332594662,\n        \"min\": 1.0,\n        \"max\": 6.9,\n        \"num_unique_values\": 43,\n        \"samples\": [\n          6.7,\n          3.8,\n          3.7\n        ],\n        \"semantic_type\": \"\",\n        \"description\": \"\"\n      }\n    },\n    {\n      \"column\": \"petal_width\",\n      \"properties\": {\n        \"dtype\": \"number\",\n        \"std\": 0.7622376689603465,\n        \"min\": 0.1,\n        \"max\": 2.5,\n        \"num_unique_values\": 22,\n        \"samples\": [\n          0.2,\n          1.2,\n          1.3\n        ],\n        \"semantic_type\": \"\",\n        \"description\": \"\"\n      }\n    },\n    {\n      \"column\": \"species\",\n      \"properties\": {\n        \"dtype\": \"category\",\n        \"num_unique_values\": 3,\n        \"samples\": [\n          \"setosa\",\n          \"versicolor\",\n          \"virginica\"\n        ],\n        \"semantic_type\": \"\",\n        \"description\": \"\"\n      }\n    }\n  ]\n}"
            }
          },
          "metadata": {},
          "execution_count": 26
        }
      ]
    },
    {
      "cell_type": "code",
      "source": [
        "df.isnull().sum()"
      ],
      "metadata": {
        "id": "ZkHpxqdYwYR0",
        "outputId": "49decfb2-0d7c-4b50-f3aa-938d36ccdd02",
        "colab": {
          "base_uri": "https://localhost:8080/"
        }
      },
      "execution_count": 27,
      "outputs": [
        {
          "output_type": "execute_result",
          "data": {
            "text/plain": [
              "sepal_length    0\n",
              "sepal_width     0\n",
              "petal_length    0\n",
              "petal_width     0\n",
              "species         0\n",
              "dtype: int64"
            ]
          },
          "metadata": {},
          "execution_count": 27
        }
      ]
    },
    {
      "cell_type": "code",
      "source": [
        "X=df.drop(labels=['species'],axis=1)\n",
        "y=df['species']"
      ],
      "metadata": {
        "id": "1t4sNj4bw3mL"
      },
      "execution_count": 41,
      "outputs": []
    },
    {
      "cell_type": "code",
      "source": [
        "from sklearn.model_selection import train_test_split\n",
        "X_train,X_test,y_train,y_test=train_test_split(X,y,test_size=0.20,random_state=42)"
      ],
      "metadata": {
        "id": "fxghauze7EpB"
      },
      "execution_count": 43,
      "outputs": []
    },
    {
      "cell_type": "code",
      "source": [
        "numerical_cols = ['sepal_length'\t,'sepal_width'\t,'petal_length',\t'petal_width']"
      ],
      "metadata": {
        "id": "HrrZMAIDxkL6"
      },
      "execution_count": 44,
      "outputs": []
    },
    {
      "cell_type": "code",
      "source": [
        "num_pipeline=Pipeline(\n",
        "    steps=[\n",
        "        ('imputer',SimpleImputer(strategy='median')), ##Missing Values\n",
        "        ('scaler',StandardScaler()) ## feature Scaling\n",
        "    ]\n",
        "\n",
        ")"
      ],
      "metadata": {
        "id": "EDorFWgsypUa"
      },
      "execution_count": 45,
      "outputs": []
    },
    {
      "cell_type": "code",
      "source": [
        "preprocessor=ColumnTransformer([\n",
        "    ('num_pipeline',num_pipeline,numerical_cols)\n",
        "])\n",
        "\n",
        "preprocessor"
      ],
      "metadata": {
        "id": "4uygRtVu1B6i",
        "outputId": "9fd74b99-c6cd-4bcc-b10f-f5a542cfafb7",
        "colab": {
          "base_uri": "https://localhost:8080/",
          "height": 150
        }
      },
      "execution_count": 46,
      "outputs": [
        {
          "output_type": "execute_result",
          "data": {
            "text/plain": [
              "ColumnTransformer(transformers=[('num_pipeline',\n",
              "                                 Pipeline(steps=[('imputer',\n",
              "                                                  SimpleImputer(strategy='median')),\n",
              "                                                 ('scaler', StandardScaler())]),\n",
              "                                 ['sepal_length', 'sepal_width', 'petal_length',\n",
              "                                  'petal_width'])])"
            ],
            "text/html": [
              "<style>#sk-container-id-1 {color: black;background-color: white;}#sk-container-id-1 pre{padding: 0;}#sk-container-id-1 div.sk-toggleable {background-color: white;}#sk-container-id-1 label.sk-toggleable__label {cursor: pointer;display: block;width: 100%;margin-bottom: 0;padding: 0.3em;box-sizing: border-box;text-align: center;}#sk-container-id-1 label.sk-toggleable__label-arrow:before {content: \"▸\";float: left;margin-right: 0.25em;color: #696969;}#sk-container-id-1 label.sk-toggleable__label-arrow:hover:before {color: black;}#sk-container-id-1 div.sk-estimator:hover label.sk-toggleable__label-arrow:before {color: black;}#sk-container-id-1 div.sk-toggleable__content {max-height: 0;max-width: 0;overflow: hidden;text-align: left;background-color: #f0f8ff;}#sk-container-id-1 div.sk-toggleable__content pre {margin: 0.2em;color: black;border-radius: 0.25em;background-color: #f0f8ff;}#sk-container-id-1 input.sk-toggleable__control:checked~div.sk-toggleable__content {max-height: 200px;max-width: 100%;overflow: auto;}#sk-container-id-1 input.sk-toggleable__control:checked~label.sk-toggleable__label-arrow:before {content: \"▾\";}#sk-container-id-1 div.sk-estimator input.sk-toggleable__control:checked~label.sk-toggleable__label {background-color: #d4ebff;}#sk-container-id-1 div.sk-label input.sk-toggleable__control:checked~label.sk-toggleable__label {background-color: #d4ebff;}#sk-container-id-1 input.sk-hidden--visually {border: 0;clip: rect(1px 1px 1px 1px);clip: rect(1px, 1px, 1px, 1px);height: 1px;margin: -1px;overflow: hidden;padding: 0;position: absolute;width: 1px;}#sk-container-id-1 div.sk-estimator {font-family: monospace;background-color: #f0f8ff;border: 1px dotted black;border-radius: 0.25em;box-sizing: border-box;margin-bottom: 0.5em;}#sk-container-id-1 div.sk-estimator:hover {background-color: #d4ebff;}#sk-container-id-1 div.sk-parallel-item::after {content: \"\";width: 100%;border-bottom: 1px solid gray;flex-grow: 1;}#sk-container-id-1 div.sk-label:hover label.sk-toggleable__label {background-color: #d4ebff;}#sk-container-id-1 div.sk-serial::before {content: \"\";position: absolute;border-left: 1px solid gray;box-sizing: border-box;top: 0;bottom: 0;left: 50%;z-index: 0;}#sk-container-id-1 div.sk-serial {display: flex;flex-direction: column;align-items: center;background-color: white;padding-right: 0.2em;padding-left: 0.2em;position: relative;}#sk-container-id-1 div.sk-item {position: relative;z-index: 1;}#sk-container-id-1 div.sk-parallel {display: flex;align-items: stretch;justify-content: center;background-color: white;position: relative;}#sk-container-id-1 div.sk-item::before, #sk-container-id-1 div.sk-parallel-item::before {content: \"\";position: absolute;border-left: 1px solid gray;box-sizing: border-box;top: 0;bottom: 0;left: 50%;z-index: -1;}#sk-container-id-1 div.sk-parallel-item {display: flex;flex-direction: column;z-index: 1;position: relative;background-color: white;}#sk-container-id-1 div.sk-parallel-item:first-child::after {align-self: flex-end;width: 50%;}#sk-container-id-1 div.sk-parallel-item:last-child::after {align-self: flex-start;width: 50%;}#sk-container-id-1 div.sk-parallel-item:only-child::after {width: 0;}#sk-container-id-1 div.sk-dashed-wrapped {border: 1px dashed gray;margin: 0 0.4em 0.5em 0.4em;box-sizing: border-box;padding-bottom: 0.4em;background-color: white;}#sk-container-id-1 div.sk-label label {font-family: monospace;font-weight: bold;display: inline-block;line-height: 1.2em;}#sk-container-id-1 div.sk-label-container {text-align: center;}#sk-container-id-1 div.sk-container {/* jupyter's `normalize.less` sets `[hidden] { display: none; }` but bootstrap.min.css set `[hidden] { display: none !important; }` so we also need the `!important` here to be able to override the default hidden behavior on the sphinx rendered scikit-learn.org. See: https://github.com/scikit-learn/scikit-learn/issues/21755 */display: inline-block !important;position: relative;}#sk-container-id-1 div.sk-text-repr-fallback {display: none;}</style><div id=\"sk-container-id-1\" class=\"sk-top-container\"><div class=\"sk-text-repr-fallback\"><pre>ColumnTransformer(transformers=[(&#x27;num_pipeline&#x27;,\n",
              "                                 Pipeline(steps=[(&#x27;imputer&#x27;,\n",
              "                                                  SimpleImputer(strategy=&#x27;median&#x27;)),\n",
              "                                                 (&#x27;scaler&#x27;, StandardScaler())]),\n",
              "                                 [&#x27;sepal_length&#x27;, &#x27;sepal_width&#x27;, &#x27;petal_length&#x27;,\n",
              "                                  &#x27;petal_width&#x27;])])</pre><b>In a Jupyter environment, please rerun this cell to show the HTML representation or trust the notebook. <br />On GitHub, the HTML representation is unable to render, please try loading this page with nbviewer.org.</b></div><div class=\"sk-container\" hidden><div class=\"sk-item sk-dashed-wrapped\"><div class=\"sk-label-container\"><div class=\"sk-label sk-toggleable\"><input class=\"sk-toggleable__control sk-hidden--visually\" id=\"sk-estimator-id-1\" type=\"checkbox\" ><label for=\"sk-estimator-id-1\" class=\"sk-toggleable__label sk-toggleable__label-arrow\">ColumnTransformer</label><div class=\"sk-toggleable__content\"><pre>ColumnTransformer(transformers=[(&#x27;num_pipeline&#x27;,\n",
              "                                 Pipeline(steps=[(&#x27;imputer&#x27;,\n",
              "                                                  SimpleImputer(strategy=&#x27;median&#x27;)),\n",
              "                                                 (&#x27;scaler&#x27;, StandardScaler())]),\n",
              "                                 [&#x27;sepal_length&#x27;, &#x27;sepal_width&#x27;, &#x27;petal_length&#x27;,\n",
              "                                  &#x27;petal_width&#x27;])])</pre></div></div></div><div class=\"sk-parallel\"><div class=\"sk-parallel-item\"><div class=\"sk-item\"><div class=\"sk-label-container\"><div class=\"sk-label sk-toggleable\"><input class=\"sk-toggleable__control sk-hidden--visually\" id=\"sk-estimator-id-2\" type=\"checkbox\" ><label for=\"sk-estimator-id-2\" class=\"sk-toggleable__label sk-toggleable__label-arrow\">num_pipeline</label><div class=\"sk-toggleable__content\"><pre>[&#x27;sepal_length&#x27;, &#x27;sepal_width&#x27;, &#x27;petal_length&#x27;, &#x27;petal_width&#x27;]</pre></div></div></div><div class=\"sk-serial\"><div class=\"sk-item\"><div class=\"sk-serial\"><div class=\"sk-item\"><div class=\"sk-estimator sk-toggleable\"><input class=\"sk-toggleable__control sk-hidden--visually\" id=\"sk-estimator-id-3\" type=\"checkbox\" ><label for=\"sk-estimator-id-3\" class=\"sk-toggleable__label sk-toggleable__label-arrow\">SimpleImputer</label><div class=\"sk-toggleable__content\"><pre>SimpleImputer(strategy=&#x27;median&#x27;)</pre></div></div></div><div class=\"sk-item\"><div class=\"sk-estimator sk-toggleable\"><input class=\"sk-toggleable__control sk-hidden--visually\" id=\"sk-estimator-id-4\" type=\"checkbox\" ><label for=\"sk-estimator-id-4\" class=\"sk-toggleable__label sk-toggleable__label-arrow\">StandardScaler</label><div class=\"sk-toggleable__content\"><pre>StandardScaler()</pre></div></div></div></div></div></div></div></div></div></div></div></div>"
            ]
          },
          "metadata": {},
          "execution_count": 46
        }
      ]
    },
    {
      "cell_type": "code",
      "source": [
        "from sklearn.ensemble import RandomForestClassifier"
      ],
      "metadata": {
        "id": "Vs20uxWe7ULT"
      },
      "execution_count": 47,
      "outputs": []
    },
    {
      "cell_type": "code",
      "source": [
        "models={\n",
        "    'Random Forest':RandomForestClassifier(),\n",
        "    'Logistic Regression':LogisticRegression()\n",
        "}"
      ],
      "metadata": {
        "id": "SXJnqlon7XX-"
      },
      "execution_count": 48,
      "outputs": []
    },
    {
      "cell_type": "code",
      "source": [
        "from sklearn.metrics import accuracy_score"
      ],
      "metadata": {
        "id": "QCIa432o7jKx"
      },
      "execution_count": 49,
      "outputs": []
    },
    {
      "cell_type": "code",
      "source": [
        "def evaluate_model(X_train,y_train,X_test,y_test,models):\n",
        "    report = {}\n",
        "    for i in range(len(models)):\n",
        "        model = list(models.values())[i]\n",
        "        model.fit(X_train,y_train)\n",
        "\n",
        "        y_test_pred =model.predict(X_test)\n",
        "        test_model_score = accuracy_score(y_test,y_test_pred)\n",
        "        report[list(models.keys())[i]] =  test_model_score\n",
        "    return report"
      ],
      "metadata": {
        "id": "0PbC1tmN7paS"
      },
      "execution_count": 51,
      "outputs": []
    },
    {
      "cell_type": "code",
      "source": [
        "evaluate_model(X_train,y_train,X_test,y_test,models)"
      ],
      "metadata": {
        "id": "CdV8kc1_7rL7",
        "outputId": "323ee50a-7088-4d01-a180-05963047bf04",
        "colab": {
          "base_uri": "https://localhost:8080/"
        }
      },
      "execution_count": 52,
      "outputs": [
        {
          "output_type": "stream",
          "name": "stderr",
          "text": [
            "/usr/local/lib/python3.10/dist-packages/sklearn/linear_model/_logistic.py:458: ConvergenceWarning: lbfgs failed to converge (status=1):\n",
            "STOP: TOTAL NO. of ITERATIONS REACHED LIMIT.\n",
            "\n",
            "Increase the number of iterations (max_iter) or scale the data as shown in:\n",
            "    https://scikit-learn.org/stable/modules/preprocessing.html\n",
            "Please also refer to the documentation for alternative solver options:\n",
            "    https://scikit-learn.org/stable/modules/linear_model.html#logistic-regression\n",
            "  n_iter_i = _check_optimize_result(\n"
          ]
        },
        {
          "output_type": "execute_result",
          "data": {
            "text/plain": [
              "{'Random Forest': 1.0, 'Logistic Regression': 1.0}"
            ]
          },
          "metadata": {},
          "execution_count": 52
        }
      ]
    },
    {
      "cell_type": "code",
      "source": [
        "classfier=RandomForestClassifier()"
      ],
      "metadata": {
        "id": "IbgszJZj70Mc"
      },
      "execution_count": 53,
      "outputs": []
    },
    {
      "cell_type": "code",
      "source": [
        "params={'max_depth':[3,5,10,None],\n",
        "              'n_estimators':[100,200,300],\n",
        "               'criterion':['gini','entropy']\n",
        "              }"
      ],
      "metadata": {
        "id": "6vkVd6b874mT"
      },
      "execution_count": 54,
      "outputs": []
    },
    {
      "cell_type": "code",
      "source": [
        "from sklearn.model_selection import GridSearchCV"
      ],
      "metadata": {
        "id": "SbewezU077Dq"
      },
      "execution_count": 55,
      "outputs": []
    },
    {
      "cell_type": "code",
      "source": [
        "cv=GridSearchCV(classfier,param_grid=params,scoring='accuracy',cv=5,verbose=3)\n",
        "cv.fit(X_train,y_train)"
      ],
      "metadata": {
        "id": "v7AiikDH8Fah",
        "outputId": "60226d9b-bbd4-49de-d19c-6780e5041dfe",
        "colab": {
          "base_uri": "https://localhost:8080/",
          "height": 1000
        }
      },
      "execution_count": 57,
      "outputs": [
        {
          "output_type": "stream",
          "name": "stdout",
          "text": [
            "Fitting 5 folds for each of 24 candidates, totalling 120 fits\n",
            "[CV 1/5] END criterion=gini, max_depth=3, n_estimators=100;, score=0.958 total time=   0.3s\n",
            "[CV 2/5] END criterion=gini, max_depth=3, n_estimators=100;, score=1.000 total time=   0.3s\n",
            "[CV 3/5] END criterion=gini, max_depth=3, n_estimators=100;, score=0.875 total time=   0.3s\n",
            "[CV 4/5] END criterion=gini, max_depth=3, n_estimators=100;, score=1.000 total time=   0.3s\n",
            "[CV 5/5] END criterion=gini, max_depth=3, n_estimators=100;, score=0.958 total time=   0.3s\n",
            "[CV 1/5] END criterion=gini, max_depth=3, n_estimators=200;, score=0.958 total time=   0.6s\n",
            "[CV 2/5] END criterion=gini, max_depth=3, n_estimators=200;, score=1.000 total time=   0.3s\n",
            "[CV 3/5] END criterion=gini, max_depth=3, n_estimators=200;, score=0.833 total time=   0.3s\n",
            "[CV 4/5] END criterion=gini, max_depth=3, n_estimators=200;, score=1.000 total time=   0.3s\n",
            "[CV 5/5] END criterion=gini, max_depth=3, n_estimators=200;, score=0.958 total time=   0.3s\n",
            "[CV 1/5] END criterion=gini, max_depth=3, n_estimators=300;, score=0.958 total time=   0.5s\n",
            "[CV 2/5] END criterion=gini, max_depth=3, n_estimators=300;, score=1.000 total time=   0.7s\n",
            "[CV 3/5] END criterion=gini, max_depth=3, n_estimators=300;, score=0.833 total time=   0.8s\n",
            "[CV 4/5] END criterion=gini, max_depth=3, n_estimators=300;, score=1.000 total time=   0.7s\n",
            "[CV 5/5] END criterion=gini, max_depth=3, n_estimators=300;, score=0.958 total time=   0.4s\n",
            "[CV 1/5] END criterion=gini, max_depth=5, n_estimators=100;, score=0.958 total time=   0.1s\n",
            "[CV 2/5] END criterion=gini, max_depth=5, n_estimators=100;, score=1.000 total time=   0.2s\n",
            "[CV 3/5] END criterion=gini, max_depth=5, n_estimators=100;, score=0.792 total time=   0.2s\n",
            "[CV 4/5] END criterion=gini, max_depth=5, n_estimators=100;, score=0.958 total time=   0.2s\n",
            "[CV 5/5] END criterion=gini, max_depth=5, n_estimators=100;, score=0.958 total time=   0.2s\n",
            "[CV 1/5] END criterion=gini, max_depth=5, n_estimators=200;, score=0.958 total time=   0.3s\n",
            "[CV 2/5] END criterion=gini, max_depth=5, n_estimators=200;, score=1.000 total time=   0.3s\n",
            "[CV 3/5] END criterion=gini, max_depth=5, n_estimators=200;, score=0.833 total time=   0.3s\n",
            "[CV 4/5] END criterion=gini, max_depth=5, n_estimators=200;, score=1.000 total time=   0.3s\n",
            "[CV 5/5] END criterion=gini, max_depth=5, n_estimators=200;, score=0.958 total time=   0.3s\n",
            "[CV 1/5] END criterion=gini, max_depth=5, n_estimators=300;, score=0.958 total time=   0.4s\n",
            "[CV 2/5] END criterion=gini, max_depth=5, n_estimators=300;, score=1.000 total time=   0.5s\n",
            "[CV 3/5] END criterion=gini, max_depth=5, n_estimators=300;, score=0.833 total time=   0.4s\n",
            "[CV 4/5] END criterion=gini, max_depth=5, n_estimators=300;, score=1.000 total time=   0.4s\n",
            "[CV 5/5] END criterion=gini, max_depth=5, n_estimators=300;, score=0.958 total time=   0.4s\n",
            "[CV 1/5] END criterion=gini, max_depth=10, n_estimators=100;, score=0.958 total time=   0.2s\n",
            "[CV 2/5] END criterion=gini, max_depth=10, n_estimators=100;, score=1.000 total time=   0.2s\n",
            "[CV 3/5] END criterion=gini, max_depth=10, n_estimators=100;, score=0.833 total time=   0.1s\n",
            "[CV 4/5] END criterion=gini, max_depth=10, n_estimators=100;, score=1.000 total time=   0.1s\n",
            "[CV 5/5] END criterion=gini, max_depth=10, n_estimators=100;, score=0.958 total time=   0.1s\n",
            "[CV 1/5] END criterion=gini, max_depth=10, n_estimators=200;, score=0.958 total time=   0.3s\n",
            "[CV 2/5] END criterion=gini, max_depth=10, n_estimators=200;, score=0.958 total time=   0.3s\n",
            "[CV 3/5] END criterion=gini, max_depth=10, n_estimators=200;, score=0.792 total time=   0.3s\n",
            "[CV 4/5] END criterion=gini, max_depth=10, n_estimators=200;, score=1.000 total time=   0.3s\n",
            "[CV 5/5] END criterion=gini, max_depth=10, n_estimators=200;, score=0.958 total time=   0.3s\n",
            "[CV 1/5] END criterion=gini, max_depth=10, n_estimators=300;, score=0.958 total time=   0.4s\n",
            "[CV 2/5] END criterion=gini, max_depth=10, n_estimators=300;, score=1.000 total time=   0.4s\n",
            "[CV 3/5] END criterion=gini, max_depth=10, n_estimators=300;, score=0.875 total time=   0.5s\n",
            "[CV 4/5] END criterion=gini, max_depth=10, n_estimators=300;, score=1.000 total time=   0.4s\n",
            "[CV 5/5] END criterion=gini, max_depth=10, n_estimators=300;, score=0.958 total time=   0.4s\n",
            "[CV 1/5] END criterion=gini, max_depth=None, n_estimators=100;, score=0.958 total time=   0.1s\n",
            "[CV 2/5] END criterion=gini, max_depth=None, n_estimators=100;, score=0.958 total time=   0.2s\n",
            "[CV 3/5] END criterion=gini, max_depth=None, n_estimators=100;, score=0.875 total time=   0.2s\n",
            "[CV 4/5] END criterion=gini, max_depth=None, n_estimators=100;, score=1.000 total time=   0.3s\n",
            "[CV 5/5] END criterion=gini, max_depth=None, n_estimators=100;, score=0.958 total time=   0.3s\n",
            "[CV 1/5] END criterion=gini, max_depth=None, n_estimators=200;, score=0.958 total time=   0.5s\n",
            "[CV 2/5] END criterion=gini, max_depth=None, n_estimators=200;, score=1.000 total time=   0.5s\n",
            "[CV 3/5] END criterion=gini, max_depth=None, n_estimators=200;, score=0.833 total time=   0.5s\n",
            "[CV 4/5] END criterion=gini, max_depth=None, n_estimators=200;, score=1.000 total time=   0.5s\n",
            "[CV 5/5] END criterion=gini, max_depth=None, n_estimators=200;, score=0.958 total time=   0.3s\n",
            "[CV 1/5] END criterion=gini, max_depth=None, n_estimators=300;, score=0.958 total time=   0.5s\n",
            "[CV 2/5] END criterion=gini, max_depth=None, n_estimators=300;, score=0.958 total time=   0.4s\n",
            "[CV 3/5] END criterion=gini, max_depth=None, n_estimators=300;, score=0.792 total time=   0.4s\n",
            "[CV 4/5] END criterion=gini, max_depth=None, n_estimators=300;, score=1.000 total time=   0.5s\n",
            "[CV 5/5] END criterion=gini, max_depth=None, n_estimators=300;, score=0.958 total time=   0.4s\n",
            "[CV 1/5] END criterion=entropy, max_depth=3, n_estimators=100;, score=0.958 total time=   0.2s\n",
            "[CV 2/5] END criterion=entropy, max_depth=3, n_estimators=100;, score=1.000 total time=   0.1s\n",
            "[CV 3/5] END criterion=entropy, max_depth=3, n_estimators=100;, score=0.792 total time=   0.2s\n",
            "[CV 4/5] END criterion=entropy, max_depth=3, n_estimators=100;, score=1.000 total time=   0.2s\n",
            "[CV 5/5] END criterion=entropy, max_depth=3, n_estimators=100;, score=0.958 total time=   0.1s\n",
            "[CV 1/5] END criterion=entropy, max_depth=3, n_estimators=200;, score=0.958 total time=   0.3s\n",
            "[CV 2/5] END criterion=entropy, max_depth=3, n_estimators=200;, score=1.000 total time=   0.3s\n",
            "[CV 3/5] END criterion=entropy, max_depth=3, n_estimators=200;, score=0.833 total time=   0.3s\n",
            "[CV 4/5] END criterion=entropy, max_depth=3, n_estimators=200;, score=1.000 total time=   0.3s\n",
            "[CV 5/5] END criterion=entropy, max_depth=3, n_estimators=200;, score=0.958 total time=   0.3s\n",
            "[CV 1/5] END criterion=entropy, max_depth=3, n_estimators=300;, score=0.958 total time=   0.4s\n",
            "[CV 2/5] END criterion=entropy, max_depth=3, n_estimators=300;, score=1.000 total time=   0.4s\n",
            "[CV 3/5] END criterion=entropy, max_depth=3, n_estimators=300;, score=0.833 total time=   0.4s\n",
            "[CV 4/5] END criterion=entropy, max_depth=3, n_estimators=300;, score=1.000 total time=   0.4s\n",
            "[CV 5/5] END criterion=entropy, max_depth=3, n_estimators=300;, score=0.958 total time=   0.5s\n",
            "[CV 1/5] END criterion=entropy, max_depth=5, n_estimators=100;, score=0.958 total time=   0.1s\n",
            "[CV 2/5] END criterion=entropy, max_depth=5, n_estimators=100;, score=1.000 total time=   0.2s\n",
            "[CV 3/5] END criterion=entropy, max_depth=5, n_estimators=100;, score=0.833 total time=   0.4s\n",
            "[CV 4/5] END criterion=entropy, max_depth=5, n_estimators=100;, score=1.000 total time=   0.2s\n",
            "[CV 5/5] END criterion=entropy, max_depth=5, n_estimators=100;, score=0.958 total time=   0.2s\n",
            "[CV 1/5] END criterion=entropy, max_depth=5, n_estimators=200;, score=0.958 total time=   0.6s\n",
            "[CV 2/5] END criterion=entropy, max_depth=5, n_estimators=200;, score=1.000 total time=   0.3s\n",
            "[CV 3/5] END criterion=entropy, max_depth=5, n_estimators=200;, score=0.833 total time=   0.6s\n",
            "[CV 4/5] END criterion=entropy, max_depth=5, n_estimators=200;, score=1.000 total time=   0.3s\n",
            "[CV 5/5] END criterion=entropy, max_depth=5, n_estimators=200;, score=0.958 total time=   0.5s\n",
            "[CV 1/5] END criterion=entropy, max_depth=5, n_estimators=300;, score=0.958 total time=   0.7s\n",
            "[CV 2/5] END criterion=entropy, max_depth=5, n_estimators=300;, score=1.000 total time=   0.7s\n",
            "[CV 3/5] END criterion=entropy, max_depth=5, n_estimators=300;, score=0.833 total time=   0.6s\n",
            "[CV 4/5] END criterion=entropy, max_depth=5, n_estimators=300;, score=1.000 total time=   0.4s\n",
            "[CV 5/5] END criterion=entropy, max_depth=5, n_estimators=300;, score=0.958 total time=   0.4s\n",
            "[CV 1/5] END criterion=entropy, max_depth=10, n_estimators=100;, score=0.958 total time=   0.2s\n",
            "[CV 2/5] END criterion=entropy, max_depth=10, n_estimators=100;, score=0.958 total time=   0.2s\n",
            "[CV 3/5] END criterion=entropy, max_depth=10, n_estimators=100;, score=0.833 total time=   0.1s\n",
            "[CV 4/5] END criterion=entropy, max_depth=10, n_estimators=100;, score=1.000 total time=   0.1s\n",
            "[CV 5/5] END criterion=entropy, max_depth=10, n_estimators=100;, score=0.958 total time=   0.2s\n",
            "[CV 1/5] END criterion=entropy, max_depth=10, n_estimators=200;, score=0.958 total time=   0.3s\n",
            "[CV 2/5] END criterion=entropy, max_depth=10, n_estimators=200;, score=0.958 total time=   0.3s\n",
            "[CV 3/5] END criterion=entropy, max_depth=10, n_estimators=200;, score=0.833 total time=   0.3s\n",
            "[CV 4/5] END criterion=entropy, max_depth=10, n_estimators=200;, score=1.000 total time=   0.3s\n",
            "[CV 5/5] END criterion=entropy, max_depth=10, n_estimators=200;, score=0.958 total time=   0.3s\n",
            "[CV 1/5] END criterion=entropy, max_depth=10, n_estimators=300;, score=0.958 total time=   0.4s\n",
            "[CV 2/5] END criterion=entropy, max_depth=10, n_estimators=300;, score=1.000 total time=   0.5s\n",
            "[CV 3/5] END criterion=entropy, max_depth=10, n_estimators=300;, score=0.833 total time=   0.4s\n",
            "[CV 4/5] END criterion=entropy, max_depth=10, n_estimators=300;, score=1.000 total time=   0.5s\n",
            "[CV 5/5] END criterion=entropy, max_depth=10, n_estimators=300;, score=0.958 total time=   0.4s\n",
            "[CV 1/5] END criterion=entropy, max_depth=None, n_estimators=100;, score=0.958 total time=   0.1s\n",
            "[CV 2/5] END criterion=entropy, max_depth=None, n_estimators=100;, score=1.000 total time=   0.2s\n",
            "[CV 3/5] END criterion=entropy, max_depth=None, n_estimators=100;, score=0.833 total time=   0.2s\n",
            "[CV 4/5] END criterion=entropy, max_depth=None, n_estimators=100;, score=1.000 total time=   0.2s\n",
            "[CV 5/5] END criterion=entropy, max_depth=None, n_estimators=100;, score=0.958 total time=   0.2s\n",
            "[CV 1/5] END criterion=entropy, max_depth=None, n_estimators=200;, score=0.958 total time=   0.3s\n",
            "[CV 2/5] END criterion=entropy, max_depth=None, n_estimators=200;, score=1.000 total time=   0.3s\n",
            "[CV 3/5] END criterion=entropy, max_depth=None, n_estimators=200;, score=0.833 total time=   0.3s\n",
            "[CV 4/5] END criterion=entropy, max_depth=None, n_estimators=200;, score=1.000 total time=   0.3s\n",
            "[CV 5/5] END criterion=entropy, max_depth=None, n_estimators=200;, score=0.958 total time=   0.3s\n",
            "[CV 1/5] END criterion=entropy, max_depth=None, n_estimators=300;, score=0.958 total time=   0.5s\n",
            "[CV 2/5] END criterion=entropy, max_depth=None, n_estimators=300;, score=0.958 total time=   0.4s\n",
            "[CV 3/5] END criterion=entropy, max_depth=None, n_estimators=300;, score=0.833 total time=   0.5s\n",
            "[CV 4/5] END criterion=entropy, max_depth=None, n_estimators=300;, score=1.000 total time=   0.4s\n",
            "[CV 5/5] END criterion=entropy, max_depth=None, n_estimators=300;, score=0.958 total time=   0.6s\n"
          ]
        },
        {
          "output_type": "execute_result",
          "data": {
            "text/plain": [
              "GridSearchCV(cv=5, estimator=RandomForestClassifier(),\n",
              "             param_grid={'criterion': ['gini', 'entropy'],\n",
              "                         'max_depth': [3, 5, 10, None],\n",
              "                         'n_estimators': [100, 200, 300]},\n",
              "             scoring='accuracy', verbose=3)"
            ],
            "text/html": [
              "<style>#sk-container-id-2 {color: black;background-color: white;}#sk-container-id-2 pre{padding: 0;}#sk-container-id-2 div.sk-toggleable {background-color: white;}#sk-container-id-2 label.sk-toggleable__label {cursor: pointer;display: block;width: 100%;margin-bottom: 0;padding: 0.3em;box-sizing: border-box;text-align: center;}#sk-container-id-2 label.sk-toggleable__label-arrow:before {content: \"▸\";float: left;margin-right: 0.25em;color: #696969;}#sk-container-id-2 label.sk-toggleable__label-arrow:hover:before {color: black;}#sk-container-id-2 div.sk-estimator:hover label.sk-toggleable__label-arrow:before {color: black;}#sk-container-id-2 div.sk-toggleable__content {max-height: 0;max-width: 0;overflow: hidden;text-align: left;background-color: #f0f8ff;}#sk-container-id-2 div.sk-toggleable__content pre {margin: 0.2em;color: black;border-radius: 0.25em;background-color: #f0f8ff;}#sk-container-id-2 input.sk-toggleable__control:checked~div.sk-toggleable__content {max-height: 200px;max-width: 100%;overflow: auto;}#sk-container-id-2 input.sk-toggleable__control:checked~label.sk-toggleable__label-arrow:before {content: \"▾\";}#sk-container-id-2 div.sk-estimator input.sk-toggleable__control:checked~label.sk-toggleable__label {background-color: #d4ebff;}#sk-container-id-2 div.sk-label input.sk-toggleable__control:checked~label.sk-toggleable__label {background-color: #d4ebff;}#sk-container-id-2 input.sk-hidden--visually {border: 0;clip: rect(1px 1px 1px 1px);clip: rect(1px, 1px, 1px, 1px);height: 1px;margin: -1px;overflow: hidden;padding: 0;position: absolute;width: 1px;}#sk-container-id-2 div.sk-estimator {font-family: monospace;background-color: #f0f8ff;border: 1px dotted black;border-radius: 0.25em;box-sizing: border-box;margin-bottom: 0.5em;}#sk-container-id-2 div.sk-estimator:hover {background-color: #d4ebff;}#sk-container-id-2 div.sk-parallel-item::after {content: \"\";width: 100%;border-bottom: 1px solid gray;flex-grow: 1;}#sk-container-id-2 div.sk-label:hover label.sk-toggleable__label {background-color: #d4ebff;}#sk-container-id-2 div.sk-serial::before {content: \"\";position: absolute;border-left: 1px solid gray;box-sizing: border-box;top: 0;bottom: 0;left: 50%;z-index: 0;}#sk-container-id-2 div.sk-serial {display: flex;flex-direction: column;align-items: center;background-color: white;padding-right: 0.2em;padding-left: 0.2em;position: relative;}#sk-container-id-2 div.sk-item {position: relative;z-index: 1;}#sk-container-id-2 div.sk-parallel {display: flex;align-items: stretch;justify-content: center;background-color: white;position: relative;}#sk-container-id-2 div.sk-item::before, #sk-container-id-2 div.sk-parallel-item::before {content: \"\";position: absolute;border-left: 1px solid gray;box-sizing: border-box;top: 0;bottom: 0;left: 50%;z-index: -1;}#sk-container-id-2 div.sk-parallel-item {display: flex;flex-direction: column;z-index: 1;position: relative;background-color: white;}#sk-container-id-2 div.sk-parallel-item:first-child::after {align-self: flex-end;width: 50%;}#sk-container-id-2 div.sk-parallel-item:last-child::after {align-self: flex-start;width: 50%;}#sk-container-id-2 div.sk-parallel-item:only-child::after {width: 0;}#sk-container-id-2 div.sk-dashed-wrapped {border: 1px dashed gray;margin: 0 0.4em 0.5em 0.4em;box-sizing: border-box;padding-bottom: 0.4em;background-color: white;}#sk-container-id-2 div.sk-label label {font-family: monospace;font-weight: bold;display: inline-block;line-height: 1.2em;}#sk-container-id-2 div.sk-label-container {text-align: center;}#sk-container-id-2 div.sk-container {/* jupyter's `normalize.less` sets `[hidden] { display: none; }` but bootstrap.min.css set `[hidden] { display: none !important; }` so we also need the `!important` here to be able to override the default hidden behavior on the sphinx rendered scikit-learn.org. See: https://github.com/scikit-learn/scikit-learn/issues/21755 */display: inline-block !important;position: relative;}#sk-container-id-2 div.sk-text-repr-fallback {display: none;}</style><div id=\"sk-container-id-2\" class=\"sk-top-container\"><div class=\"sk-text-repr-fallback\"><pre>GridSearchCV(cv=5, estimator=RandomForestClassifier(),\n",
              "             param_grid={&#x27;criterion&#x27;: [&#x27;gini&#x27;, &#x27;entropy&#x27;],\n",
              "                         &#x27;max_depth&#x27;: [3, 5, 10, None],\n",
              "                         &#x27;n_estimators&#x27;: [100, 200, 300]},\n",
              "             scoring=&#x27;accuracy&#x27;, verbose=3)</pre><b>In a Jupyter environment, please rerun this cell to show the HTML representation or trust the notebook. <br />On GitHub, the HTML representation is unable to render, please try loading this page with nbviewer.org.</b></div><div class=\"sk-container\" hidden><div class=\"sk-item sk-dashed-wrapped\"><div class=\"sk-label-container\"><div class=\"sk-label sk-toggleable\"><input class=\"sk-toggleable__control sk-hidden--visually\" id=\"sk-estimator-id-5\" type=\"checkbox\" ><label for=\"sk-estimator-id-5\" class=\"sk-toggleable__label sk-toggleable__label-arrow\">GridSearchCV</label><div class=\"sk-toggleable__content\"><pre>GridSearchCV(cv=5, estimator=RandomForestClassifier(),\n",
              "             param_grid={&#x27;criterion&#x27;: [&#x27;gini&#x27;, &#x27;entropy&#x27;],\n",
              "                         &#x27;max_depth&#x27;: [3, 5, 10, None],\n",
              "                         &#x27;n_estimators&#x27;: [100, 200, 300]},\n",
              "             scoring=&#x27;accuracy&#x27;, verbose=3)</pre></div></div></div><div class=\"sk-parallel\"><div class=\"sk-parallel-item\"><div class=\"sk-item\"><div class=\"sk-label-container\"><div class=\"sk-label sk-toggleable\"><input class=\"sk-toggleable__control sk-hidden--visually\" id=\"sk-estimator-id-6\" type=\"checkbox\" ><label for=\"sk-estimator-id-6\" class=\"sk-toggleable__label sk-toggleable__label-arrow\">estimator: RandomForestClassifier</label><div class=\"sk-toggleable__content\"><pre>RandomForestClassifier()</pre></div></div></div><div class=\"sk-serial\"><div class=\"sk-item\"><div class=\"sk-estimator sk-toggleable\"><input class=\"sk-toggleable__control sk-hidden--visually\" id=\"sk-estimator-id-7\" type=\"checkbox\" ><label for=\"sk-estimator-id-7\" class=\"sk-toggleable__label sk-toggleable__label-arrow\">RandomForestClassifier</label><div class=\"sk-toggleable__content\"><pre>RandomForestClassifier()</pre></div></div></div></div></div></div></div></div></div></div>"
            ]
          },
          "metadata": {},
          "execution_count": 57
        }
      ]
    },
    {
      "cell_type": "code",
      "source": [
        "cv.best_params_"
      ],
      "metadata": {
        "id": "gSvZB8cG8KCU",
        "outputId": "af687400-afb5-4a47-e8d8-c9da1b9ee8c6",
        "colab": {
          "base_uri": "https://localhost:8080/"
        }
      },
      "execution_count": 58,
      "outputs": [
        {
          "output_type": "execute_result",
          "data": {
            "text/plain": [
              "{'criterion': 'gini', 'max_depth': 3, 'n_estimators': 100}"
            ]
          },
          "metadata": {},
          "execution_count": 58
        }
      ]
    },
    {
      "cell_type": "code",
      "source": [
        "from sklearn.ensemble import VotingClassifier\n",
        "from sklearn.linear_model import LogisticRegression\n",
        "from sklearn.model_selection import cross_val_score\n",
        "\n",
        "rf_classifier = RandomForestClassifier()\n",
        "lr_classifier = LogisticRegression()\n",
        "voting_classifier = VotingClassifier(\n",
        "    estimators=[('rf', rf_classifier), ('lr', lr_classifier)],\n",
        "    voting='soft'\n",
        ")\n",
        "\n",
        "voting_classifier.fit(X_train, y_train)\n",
        "accuracy = cross_val_score(voting_classifier, X_train, y_train, cv=5).mean()\n",
        "print(\"Accuracy:\", accuracy)\n"
      ],
      "metadata": {
        "id": "D7zuk1h28eeL",
        "outputId": "cd36012c-421a-4c06-f15e-d2a3ba193954",
        "colab": {
          "base_uri": "https://localhost:8080/"
        }
      },
      "execution_count": 59,
      "outputs": [
        {
          "output_type": "stream",
          "name": "stderr",
          "text": [
            "/usr/local/lib/python3.10/dist-packages/sklearn/linear_model/_logistic.py:458: ConvergenceWarning: lbfgs failed to converge (status=1):\n",
            "STOP: TOTAL NO. of ITERATIONS REACHED LIMIT.\n",
            "\n",
            "Increase the number of iterations (max_iter) or scale the data as shown in:\n",
            "    https://scikit-learn.org/stable/modules/preprocessing.html\n",
            "Please also refer to the documentation for alternative solver options:\n",
            "    https://scikit-learn.org/stable/modules/linear_model.html#logistic-regression\n",
            "  n_iter_i = _check_optimize_result(\n",
            "/usr/local/lib/python3.10/dist-packages/sklearn/linear_model/_logistic.py:458: ConvergenceWarning: lbfgs failed to converge (status=1):\n",
            "STOP: TOTAL NO. of ITERATIONS REACHED LIMIT.\n",
            "\n",
            "Increase the number of iterations (max_iter) or scale the data as shown in:\n",
            "    https://scikit-learn.org/stable/modules/preprocessing.html\n",
            "Please also refer to the documentation for alternative solver options:\n",
            "    https://scikit-learn.org/stable/modules/linear_model.html#logistic-regression\n",
            "  n_iter_i = _check_optimize_result(\n"
          ]
        },
        {
          "output_type": "stream",
          "name": "stdout",
          "text": [
            "Accuracy: 0.9583333333333334\n"
          ]
        },
        {
          "output_type": "stream",
          "name": "stderr",
          "text": [
            "/usr/local/lib/python3.10/dist-packages/sklearn/linear_model/_logistic.py:458: ConvergenceWarning: lbfgs failed to converge (status=1):\n",
            "STOP: TOTAL NO. of ITERATIONS REACHED LIMIT.\n",
            "\n",
            "Increase the number of iterations (max_iter) or scale the data as shown in:\n",
            "    https://scikit-learn.org/stable/modules/preprocessing.html\n",
            "Please also refer to the documentation for alternative solver options:\n",
            "    https://scikit-learn.org/stable/modules/linear_model.html#logistic-regression\n",
            "  n_iter_i = _check_optimize_result(\n"
          ]
        }
      ]
    },
    {
      "cell_type": "code",
      "source": [],
      "metadata": {
        "id": "QijcLcIY8yuv"
      },
      "execution_count": null,
      "outputs": []
    }
  ]
}